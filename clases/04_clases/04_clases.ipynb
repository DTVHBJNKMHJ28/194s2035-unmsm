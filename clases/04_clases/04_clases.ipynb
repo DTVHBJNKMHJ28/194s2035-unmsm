{
  "nbformat": 4,
  "nbformat_minor": 0,
  "metadata": {
    "colab": {
      "provenance": []
    },
    "kernelspec": {
      "name": "python3",
      "display_name": "Python 3"
    },
    "language_info": {
      "name": "python"
    }
  },
  "cells": [
    {
      "cell_type": "code",
      "execution_count": 6,
      "metadata": {
        "id": "gJ34hEt0cKNB"
      },
      "outputs": [],
      "source": [
        "nita = {\n",
        "    \"dano\": 10,\n",
        "    \"velocidad\": 8\n",
        "}"
      ]
    },
    {
      "cell_type": "code",
      "source": [
        "barley = {\n",
        "    \"dano\": 15,\n",
        "    \"velocidad\": 10\n",
        "}"
      ],
      "metadata": {
        "id": "YegNkilgcatX"
      },
      "execution_count": 7,
      "outputs": []
    },
    {
      "cell_type": "code",
      "source": [
        "def pelear(brawler, rival):\n",
        "    fuerza = brawler[\"dano\"] * brawler[\"velocidad\"]\n",
        "    fuerza_rival = rival[\"dano\"] * rival[\"velocidad\"]\n",
        "    fuerza = brawler[\"dano\"] * brawler[\"velocidad\"]\n",
        "    fuerza_rival = rival[\"dano\"] * rival[\"velocidad\"]\n",
        "    if fuerza == fuerza_rival:\n",
        "        print(\"Empate\")\n",
        "    elif fuerza < fuerza_rival:\n",
        "        print(\"Gana el rival\")\n",
        "    else:\n",
        "        print(\"Ganaste\")"
      ],
      "metadata": {
        "id": "-JY33zt-cl5j"
      },
      "execution_count": 11,
      "outputs": []
    },
    {
      "cell_type": "code",
      "source": [
        "pelear(nita, barley)"
      ],
      "metadata": {
        "colab": {
          "base_uri": "https://localhost:8080/"
        },
        "id": "aNBjQVihdYXI",
        "outputId": "42f76b81-18c0-4f49-c95e-2d40b0ffa1c9"
      },
      "execution_count": 12,
      "outputs": [
        {
          "output_type": "stream",
          "name": "stdout",
          "text": [
            "Gana el rival\n"
          ]
        }
      ]
    },
    {
      "cell_type": "code",
      "source": [
        "pelear(barley, nita)"
      ],
      "metadata": {
        "colab": {
          "base_uri": "https://localhost:8080/"
        },
        "id": "ObuSssj9dbk2",
        "outputId": "d86758dd-7a44-4b1d-cf98-8624086cfa93"
      },
      "execution_count": 13,
      "outputs": [
        {
          "output_type": "stream",
          "name": "stdout",
          "text": [
            "Ganaste\n"
          ]
        }
      ]
    },
    {
      "cell_type": "code",
      "source": [
        "# Clase\n",
        "class Brawler:\n",
        "    salud = 100\n",
        "    ataque = 20"
      ],
      "metadata": {
        "id": "TWMxteaseTFK"
      },
      "execution_count": 14,
      "outputs": []
    },
    {
      "cell_type": "code",
      "source": [
        "nita = Brawler()"
      ],
      "metadata": {
        "id": "dM7MaCCtf4uo"
      },
      "execution_count": 15,
      "outputs": []
    },
    {
      "cell_type": "code",
      "source": [
        "kenji = Brawler()"
      ],
      "metadata": {
        "id": "7MF5FVTJgB3M"
      },
      "execution_count": 16,
      "outputs": []
    },
    {
      "cell_type": "code",
      "source": [
        "print(nita.salud)"
      ],
      "metadata": {
        "colab": {
          "base_uri": "https://localhost:8080/"
        },
        "id": "u-TrD86igFhL",
        "outputId": "bc6c8c01-c939-41a6-9172-6bea1a034529"
      },
      "execution_count": 17,
      "outputs": [
        {
          "output_type": "stream",
          "name": "stdout",
          "text": [
            "100\n"
          ]
        }
      ]
    },
    {
      "cell_type": "code",
      "source": [
        "print(kenji.ataque)"
      ],
      "metadata": {
        "colab": {
          "base_uri": "https://localhost:8080/"
        },
        "id": "ABRKjbUWgK8T",
        "outputId": "f6079193-6872-48e3-b3cf-a337c20a0c98"
      },
      "execution_count": 18,
      "outputs": [
        {
          "output_type": "stream",
          "name": "stdout",
          "text": [
            "20\n"
          ]
        }
      ]
    },
    {
      "cell_type": "code",
      "source": [
        "print(nita.ataque)"
      ],
      "metadata": {
        "colab": {
          "base_uri": "https://localhost:8080/"
        },
        "id": "aOWlYZ2WgOb0",
        "outputId": "d22af046-103c-4a9d-c7cd-e2e1c0c1aa6b"
      },
      "execution_count": 19,
      "outputs": [
        {
          "output_type": "stream",
          "name": "stdout",
          "text": [
            "20\n"
          ]
        }
      ]
    },
    {
      "cell_type": "code",
      "source": [
        "# Crear una clase que represente un curso.\n",
        "# Este debe tener código, nombre de curso, ciclo.\n",
        "class Curso:\n",
        "    codigo = 2018124\n",
        "    horas = 4\n",
        "    ciclo = 1\n",
        "\n",
        "aga = Curso()\n",
        "print(aga.horas)\n",
        "\n",
        "lp = Curso()\n",
        "print(lp.ciclo)"
      ],
      "metadata": {
        "colab": {
          "base_uri": "https://localhost:8080/"
        },
        "id": "0vZGaMLdgbg3",
        "outputId": "29969802-05ce-4d51-d1a4-dd6a3b2423fc"
      },
      "execution_count": 20,
      "outputs": [
        {
          "output_type": "stream",
          "name": "stdout",
          "text": [
            "4\n",
            "1\n"
          ]
        }
      ]
    },
    {
      "cell_type": "code",
      "source": [
        "# Método\n",
        "class Brawler:\n",
        "    salud = 100\n",
        "\n",
        "    def recibir_ataque(self, ataque):\n",
        "        self.salud -= ataque"
      ],
      "metadata": {
        "id": "hM9XSn_fiF8u"
      },
      "execution_count": 21,
      "outputs": []
    },
    {
      "cell_type": "code",
      "source": [
        "tick = Brawler()\n",
        "print(tick.salud)"
      ],
      "metadata": {
        "colab": {
          "base_uri": "https://localhost:8080/"
        },
        "id": "W90_zPyhik8z",
        "outputId": "207a1464-b0ef-4034-a6f3-169c2e9176e3"
      },
      "execution_count": 22,
      "outputs": [
        {
          "output_type": "stream",
          "name": "stdout",
          "text": [
            "100\n"
          ]
        }
      ]
    },
    {
      "cell_type": "code",
      "source": [
        "tick.recibir_ataque(20)\n",
        "print(tick.salud)"
      ],
      "metadata": {
        "colab": {
          "base_uri": "https://localhost:8080/"
        },
        "id": "OCTN7dMbi7Lw",
        "outputId": "70fa3167-9a17-4719-a849-99d5b756586c"
      },
      "execution_count": 23,
      "outputs": [
        {
          "output_type": "stream",
          "name": "stdout",
          "text": [
            "80\n"
          ]
        }
      ]
    },
    {
      "cell_type": "code",
      "source": [
        "tick.recibir_ataque(37)\n",
        "print(tick.salud)"
      ],
      "metadata": {
        "colab": {
          "base_uri": "https://localhost:8080/"
        },
        "id": "GQjKSJSAjElS",
        "outputId": "cf7dfa1a-9f00-456d-c5e1-87ecc7d56cab"
      },
      "execution_count": 24,
      "outputs": [
        {
          "output_type": "stream",
          "name": "stdout",
          "text": [
            "43\n"
          ]
        }
      ]
    },
    {
      "cell_type": "code",
      "source": [
        "byron = Brawler()\n",
        "print(byron.salud)"
      ],
      "metadata": {
        "colab": {
          "base_uri": "https://localhost:8080/"
        },
        "id": "Oe9XIA22jo22",
        "outputId": "215166fa-2680-4da9-8eac-45a181edbfc8"
      },
      "execution_count": 25,
      "outputs": [
        {
          "output_type": "stream",
          "name": "stdout",
          "text": [
            "100\n"
          ]
        }
      ]
    },
    {
      "cell_type": "code",
      "source": [
        "print(tick.salud)"
      ],
      "metadata": {
        "colab": {
          "base_uri": "https://localhost:8080/"
        },
        "id": "iNXFiwqRjtFG",
        "outputId": "1f6622e1-c986-4598-fdfe-8aa946740d0e"
      },
      "execution_count": 26,
      "outputs": [
        {
          "output_type": "stream",
          "name": "stdout",
          "text": [
            "43\n"
          ]
        }
      ]
    },
    {
      "cell_type": "code",
      "source": [
        "class Curso:\n",
        "    codigo = 2018124\n",
        "    horas = 2\n",
        "    ciclo = 1\n",
        "\n",
        "    def agregar_hora(self):\n",
        "        self.horas += 1"
      ],
      "metadata": {
        "id": "3H7YyGcYjw_P"
      },
      "execution_count": 28,
      "outputs": []
    },
    {
      "cell_type": "code",
      "source": [
        "aga = Curso()"
      ],
      "metadata": {
        "id": "4uNs1nKylFZz"
      },
      "execution_count": 29,
      "outputs": []
    },
    {
      "cell_type": "code",
      "source": [
        "print(aga.horas)"
      ],
      "metadata": {
        "colab": {
          "base_uri": "https://localhost:8080/"
        },
        "id": "kh6diSzNlIc6",
        "outputId": "39c46916-f910-4e51-cf38-987be46bf28e"
      },
      "execution_count": 30,
      "outputs": [
        {
          "output_type": "stream",
          "name": "stdout",
          "text": [
            "2\n"
          ]
        }
      ]
    },
    {
      "cell_type": "code",
      "source": [
        "aga.agregar_hora()\n",
        "print(aga.horas)\n",
        "aga.agregar_hora()\n",
        "aga.agregar_hora()\n",
        "aga.agregar_hora()\n",
        "print(aga.horas)"
      ],
      "metadata": {
        "colab": {
          "base_uri": "https://localhost:8080/"
        },
        "id": "pCxTFqF5lKtx",
        "outputId": "8d2b57aa-bd73-48d4-9a71-fb8e80f115d2"
      },
      "execution_count": 31,
      "outputs": [
        {
          "output_type": "stream",
          "name": "stdout",
          "text": [
            "3\n",
            "6\n"
          ]
        }
      ]
    },
    {
      "cell_type": "code",
      "source": [
        "lp = Curso()\n",
        "print(lp.horas)"
      ],
      "metadata": {
        "colab": {
          "base_uri": "https://localhost:8080/"
        },
        "id": "NvjIbtQPlVgk",
        "outputId": "c1ec5f9b-4f0f-4657-ebc7-beab1f44fc44"
      },
      "execution_count": 32,
      "outputs": [
        {
          "output_type": "stream",
          "name": "stdout",
          "text": [
            "2\n"
          ]
        }
      ]
    },
    {
      "cell_type": "code",
      "source": [
        "class Brawler:\n",
        "    salud = 100\n",
        "    nivel = 9\n",
        "\n",
        "    def recibir_ataque(self, ataque):\n",
        "        self.salud -= ataque\n",
        "\n",
        "    def obtener_puntos(self):\n",
        "        return 50 * self.nivel"
      ],
      "metadata": {
        "id": "c8HyH8YgmANv"
      },
      "execution_count": 33,
      "outputs": []
    },
    {
      "cell_type": "code",
      "source": [
        "moe = Brawler()\n",
        "print(moe.obtener_puntos())"
      ],
      "metadata": {
        "colab": {
          "base_uri": "https://localhost:8080/"
        },
        "id": "XjXPd4ykmWWV",
        "outputId": "be6574f4-56ea-4b1f-8cd7-51330613cee6"
      },
      "execution_count": 34,
      "outputs": [
        {
          "output_type": "stream",
          "name": "stdout",
          "text": [
            "450\n"
          ]
        }
      ]
    },
    {
      "cell_type": "code",
      "source": [
        "gemas = 2 * moe.obtener_puntos()\n",
        "print(f\"Necesito {gemas} gemas para subir a mi brawler al nivel {moe.nivel}\")"
      ],
      "metadata": {
        "colab": {
          "base_uri": "https://localhost:8080/"
        },
        "id": "gO-N_Oiomk5Y",
        "outputId": "558b983e-0cd7-4779-bb5f-017d5739b5b3"
      },
      "execution_count": 36,
      "outputs": [
        {
          "output_type": "stream",
          "name": "stdout",
          "text": [
            "Necesito 900 gemas para subir a mi brawler al nivel 9\n"
          ]
        }
      ]
    },
    {
      "cell_type": "code",
      "source": [
        "# Constructor\n",
        "class Brawler:\n",
        "    def __init__(self, nombre, salud, nivel, ataque):\n",
        "        self.nombre = nombre\n",
        "        self.salud = salud\n",
        "        self.nivel = nivel\n",
        "        self.ataque = ataque\n",
        "\n",
        "    def recibir_ataque(self, ataque):\n",
        "        self.salud -= ataque\n",
        "\n",
        "    def obtener_puntos(self):\n",
        "        return 50 * self.nivel\n",
        "\n",
        "    def obtener_fuerza(self):\n",
        "        return self.nivel * self.ataque\n",
        "\n",
        "    def presentar(self):\n",
        "        print(f\"{self.nombre} tiene {self.salud} de vida y está en nivel {self.nivel}\")"
      ],
      "metadata": {
        "id": "FaCxu30hm2Ul"
      },
      "execution_count": 68,
      "outputs": []
    },
    {
      "cell_type": "code",
      "source": [
        "nita = Brawler(\"Nita\", 100, 9, 70)\n",
        "nita.presentar()"
      ],
      "metadata": {
        "colab": {
          "base_uri": "https://localhost:8080/"
        },
        "id": "KbovESWRoQm7",
        "outputId": "ea033738-9a88-4993-db7d-c58f649b261c"
      },
      "execution_count": 69,
      "outputs": [
        {
          "output_type": "stream",
          "name": "stdout",
          "text": [
            "Nita tiene 100 de vida y está en nivel 9\n"
          ]
        }
      ]
    },
    {
      "cell_type": "code",
      "source": [
        "belle = Brawler(\"Belle\", 150, 7, 160)\n",
        "belle.presentar()\n",
        "belle.recibir_ataque(120)\n",
        "belle.presentar()"
      ],
      "metadata": {
        "colab": {
          "base_uri": "https://localhost:8080/"
        },
        "id": "NYhaunZropuO",
        "outputId": "403da069-1f01-412e-d168-f6510f7867c3"
      },
      "execution_count": 70,
      "outputs": [
        {
          "output_type": "stream",
          "name": "stdout",
          "text": [
            "Belle tiene 150 de vida y está en nivel 7\n",
            "Belle tiene 30 de vida y está en nivel 7\n"
          ]
        }
      ]
    },
    {
      "cell_type": "code",
      "source": [
        "# Constructor\n",
        "class Curso:\n",
        "    def __init__(self, nombre, codigo, horas, ciclo, numero_alumnos):\n",
        "        self.nombre = nombre\n",
        "        self.horas = horas\n",
        "        self.codigo = codigo\n",
        "        self.ciclo = ciclo\n",
        "        self.numero_alumnos = numero_alumnos\n",
        "\n",
        "    def agregar_hora(self):\n",
        "        self.horas += 1\n",
        "\n",
        "    def agregar_alumnos(self, numero_alumnos):\n",
        "        self.numero_alumnos += numero_alumnos\n",
        "\n",
        "    def presentar(self):\n",
        "        print(f\"{self.nombre} tiene {self.horas} horas por semana, {self.numero_alumnos} alumnos y es del ciclo {self.ciclo}\")"
      ],
      "metadata": {
        "id": "LnugV5wspFEv"
      },
      "execution_count": 59,
      "outputs": []
    },
    {
      "cell_type": "code",
      "source": [
        "aga = Curso(\"algebra y geometria analitica\", 2018435, 6, 1, 30)\n",
        "aga.presentar()"
      ],
      "metadata": {
        "colab": {
          "base_uri": "https://localhost:8080/"
        },
        "id": "j9VHQnmsr2AH",
        "outputId": "ce6c0439-225d-43ac-c221-65f13dc4371b"
      },
      "execution_count": 60,
      "outputs": [
        {
          "output_type": "stream",
          "name": "stdout",
          "text": [
            "algebra y geometria analitica tiene 6 horas por semana, 30 alumnos y es del ciclo 1\n"
          ]
        }
      ]
    },
    {
      "cell_type": "code",
      "source": [
        "aga.agregar_alumnos(25)\n",
        "aga.agregar_hora()\n",
        "aga.presentar()"
      ],
      "metadata": {
        "colab": {
          "base_uri": "https://localhost:8080/"
        },
        "id": "K_WxBXybr5Xl",
        "outputId": "5a6ed7e9-05c5-44ee-fa11-29adfaaa64ec"
      },
      "execution_count": 61,
      "outputs": [
        {
          "output_type": "stream",
          "name": "stdout",
          "text": [
            "algebra y geometria analitica tiene 7 horas por semana, 55 alumnos y es del ciclo 1\n"
          ]
        }
      ]
    },
    {
      "cell_type": "code",
      "source": [
        "def duelo(x, y):\n",
        "    print(\"Inicio (1 vs 1)\")\n",
        "    x.presentar()\n",
        "    y.presentar()\n",
        "    if x.obtener_fuerza() > y.obtener_fuerza():\n",
        "        print(f\"{x.nombre} gana\")\n",
        "    elif y.obtener_fuerza() > x.obtener_fuerza():\n",
        "        print(f\"{y.nombre} gana\")\n",
        "    else:\n",
        "        print(\"Empate\")\n",
        "    print(\"Fin (1 vs 1)\")"
      ],
      "metadata": {
        "id": "nLEUT1QztAr4"
      },
      "execution_count": 71,
      "outputs": []
    },
    {
      "cell_type": "code",
      "source": [
        "duelo(nita, belle)"
      ],
      "metadata": {
        "colab": {
          "base_uri": "https://localhost:8080/"
        },
        "id": "zKA--Xentvkh",
        "outputId": "8d618721-f2c9-46dc-b011-57ad7b0ad5cf"
      },
      "execution_count": 72,
      "outputs": [
        {
          "output_type": "stream",
          "name": "stdout",
          "text": [
            "Inicio (1 vs 1)\n",
            "Nita tiene 100 de vida y está en nivel 9\n",
            "Belle tiene 30 de vida y está en nivel 7\n",
            "Belle gana\n",
            "Fin (1 vs 1)\n"
          ]
        }
      ]
    },
    {
      "cell_type": "code",
      "source": [
        "surge = Brawler(\"Surge\", 120, 11, 110)"
      ],
      "metadata": {
        "id": "xcFSzjdcuoG1"
      },
      "execution_count": 73,
      "outputs": []
    },
    {
      "cell_type": "code",
      "source": [
        "duelo(surge, nita)"
      ],
      "metadata": {
        "colab": {
          "base_uri": "https://localhost:8080/"
        },
        "id": "uq01spJAuxAF",
        "outputId": "3d208b61-7459-422b-ed6f-fe4dfbe33434"
      },
      "execution_count": 74,
      "outputs": [
        {
          "output_type": "stream",
          "name": "stdout",
          "text": [
            "Inicio (1 vs 1)\n",
            "Surge tiene 120 de vida y está en nivel 11\n",
            "Nita tiene 100 de vida y está en nivel 9\n",
            "Surge gana\n",
            "Fin (1 vs 1)\n"
          ]
        }
      ]
    },
    {
      "cell_type": "code",
      "source": [
        "duelo(nita, surge)"
      ],
      "metadata": {
        "colab": {
          "base_uri": "https://localhost:8080/"
        },
        "id": "H_Ew6Pe1u0gn",
        "outputId": "626d2b3d-9d30-4229-a1a8-6221efdf90af"
      },
      "execution_count": 75,
      "outputs": [
        {
          "output_type": "stream",
          "name": "stdout",
          "text": [
            "Inicio (1 vs 1)\n",
            "Nita tiene 100 de vida y está en nivel 9\n",
            "Surge tiene 120 de vida y está en nivel 11\n",
            "Surge gana\n",
            "Fin (1 vs 1)\n"
          ]
        }
      ]
    },
    {
      "cell_type": "code",
      "source": [
        "duelo(surge, belle)"
      ],
      "metadata": {
        "colab": {
          "base_uri": "https://localhost:8080/"
        },
        "id": "u6k6QkwGu27J",
        "outputId": "ffddaf5d-67a7-426c-fda9-118684f42026"
      },
      "execution_count": 76,
      "outputs": [
        {
          "output_type": "stream",
          "name": "stdout",
          "text": [
            "Inicio (1 vs 1)\n",
            "Surge tiene 120 de vida y está en nivel 11\n",
            "Belle tiene 30 de vida y está en nivel 7\n",
            "Surge gana\n",
            "Fin (1 vs 1)\n"
          ]
        }
      ]
    },
    {
      "cell_type": "code",
      "source": [
        "# Hasta ahora hemos visto variables de instancia\n",
        "# Veamos variables de clase\n",
        "# Constructor\n",
        "class Brawler:\n",
        "    nombre_juego = \"Brawl stars\"\n",
        "\n",
        "    def __init__(self, nombre, salud, nivel, ataque):\n",
        "        self.nombre = nombre\n",
        "        self.salud = salud\n",
        "        self.nivel = nivel\n",
        "        self.ataque = ataque\n",
        "\n",
        "    def recibir_ataque(self, ataque):\n",
        "        self.salud -= ataque\n",
        "\n",
        "    def obtener_puntos(self):\n",
        "        return 50 * self.nivel\n",
        "\n",
        "    def obtener_fuerza(self):\n",
        "        return self.nivel * self.ataque\n",
        "\n",
        "    def presentar(self):\n",
        "        print(f\"{self.nombre} tiene {self.salud} de vida y está en nivel {self.nivel}\")"
      ],
      "metadata": {
        "id": "5cDEb7xkwKuR"
      },
      "execution_count": 80,
      "outputs": []
    },
    {
      "cell_type": "code",
      "source": [
        "bibi = Brawler(\"Bibi\", 75, 6, 130)\n",
        "shelly = Brawler(\"Shelly\", 70, 8, 90)\n",
        "frank = Brawler(\"Frank\", 160, 10, 150)"
      ],
      "metadata": {
        "id": "HCC_CniLxC2K"
      },
      "execution_count": 81,
      "outputs": []
    },
    {
      "cell_type": "code",
      "source": [
        "print(bibi.obtener_fuerza())"
      ],
      "metadata": {
        "colab": {
          "base_uri": "https://localhost:8080/"
        },
        "id": "8oFaArCzxQ9U",
        "outputId": "ec49d081-4392-4c7a-c0d1-e9c9d705aa35"
      },
      "execution_count": 82,
      "outputs": [
        {
          "output_type": "stream",
          "name": "stdout",
          "text": [
            "780\n"
          ]
        }
      ]
    },
    {
      "cell_type": "code",
      "source": [
        "print(bibi.nombre_juego)"
      ],
      "metadata": {
        "colab": {
          "base_uri": "https://localhost:8080/"
        },
        "id": "nhpI8CngxUiY",
        "outputId": "832c6cf8-db49-4189-e558-1f51c8329559"
      },
      "execution_count": 83,
      "outputs": [
        {
          "output_type": "stream",
          "name": "stdout",
          "text": [
            "Brawl stars\n"
          ]
        }
      ]
    },
    {
      "cell_type": "code",
      "source": [
        "Brawler.nombre_juego = \"Guitar Flash\""
      ],
      "metadata": {
        "id": "trhjJ_LVxgFp"
      },
      "execution_count": 84,
      "outputs": []
    },
    {
      "cell_type": "code",
      "source": [
        "print(bibi.nombre_juego)"
      ],
      "metadata": {
        "colab": {
          "base_uri": "https://localhost:8080/"
        },
        "id": "JzvCg8Uhxmsp",
        "outputId": "76dacfae-189e-4b6b-95b2-b54d8147231e"
      },
      "execution_count": 85,
      "outputs": [
        {
          "output_type": "stream",
          "name": "stdout",
          "text": [
            "Guitar Flash\n"
          ]
        }
      ]
    },
    {
      "cell_type": "code",
      "source": [
        "print(frank.nombre_juego)"
      ],
      "metadata": {
        "colab": {
          "base_uri": "https://localhost:8080/"
        },
        "id": "Fjnmz6LZxquz",
        "outputId": "7a6acb7a-6eb6-4f06-e3c1-bde4af666ae4"
      },
      "execution_count": 86,
      "outputs": [
        {
          "output_type": "stream",
          "name": "stdout",
          "text": [
            "Guitar Flash\n"
          ]
        }
      ]
    },
    {
      "cell_type": "code",
      "source": [
        "print(frank.obtener_fuerza())"
      ],
      "metadata": {
        "colab": {
          "base_uri": "https://localhost:8080/"
        },
        "id": "WrgYkZQ5xxU8",
        "outputId": "873df732-04ef-49dc-dcce-870d32b3f74b"
      },
      "execution_count": 87,
      "outputs": [
        {
          "output_type": "stream",
          "name": "stdout",
          "text": [
            "1500\n"
          ]
        }
      ]
    }
  ]
}