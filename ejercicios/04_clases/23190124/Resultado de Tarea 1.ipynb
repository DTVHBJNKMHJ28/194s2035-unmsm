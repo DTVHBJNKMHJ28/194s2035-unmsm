{
 "cells": [
  {
   "cell_type": "markdown",
   "metadata": {},
   "source": [
    "Connected to Python 3.12.6"
   ]
  },
  {
   "cell_type": "code",
   "execution_count": null,
   "id": "987c3bed-53ba-4ee0-aae3-6a17bb165d24",
   "metadata": {},
   "outputs": [
    {
     "name": "stdout",
     "output_type": "stream",
     "text": [
      "Mendoza Aguayo Ana trabaja en la Universidad Nacional Mayor de San Marcos como portera, trabaja 6 horas y gana un sueldo digno de 800 soles.\n",
      "Rios Nuñez Mónica trabaja en la Universidad Nacional Mayor de San Marcos como Personal de limpieza, trabaja 4 horas y gana un sueldo digno de 800 soles.\n",
      "Mendoza Aguayo Roger trabaja en la Universidad Nacional Mayor de San Marcos como portero, trabaja 6 horas y gana un sueldo digno de 800 soles.\n",
      "Total de empleados: 3\n"
     ]
    }
   ],
   "source": [
    "class Empleado: \n",
    "    nombre_de_universidad = \"Universidad Nacional Mayor de San Marcos\"\n",
    "    total_de_empleados = 0\n",
    "\n",
    "    def __init__(self, dni, ape_pat, ape_mat, nombre, ocupacion, horas_dtrabajo, salario):\n",
    "        self.dni = dni\n",
    "        self.ape_pat = ape_pat\n",
    "        self.ape_mat = ape_mat\n",
    "        self.nombre = nombre\n",
    "        self.ocupacion = ocupacion\n",
    "        self.horas_dtrabajo = horas_dtrabajo\n",
    "        self.salario = salario\n",
    "        Empleado.total_de_empleados += 1\n",
    "    \n",
    "    def agregar_hora(self):\n",
    "        self.horas_dtrabajo += 1\n",
    "\n",
    "    def presentar(self):\n",
    "        print(f\"{self.ape_pat} {self.ape_mat} {self.nombre} trabaja en la {self.nombre_de_universidad} como {self.ocupacion}, trabaja {self.horas_dtrabajo} horas y gana un sueldo digno de {self.salario} soles.\")\n",
    "\n",
    "    def obtener_total_empleados(cls):\n",
    "        return cls.total_de_empleados\n",
    "    \n",
    "anam = Empleado(85245613, \"Mendoza\", \"Aguayo\", \"Ana\", \"portera\", 6, 800)\n",
    "anam.presentar()\n",
    "\n",
    "monicac = Empleado(82580613, \"Rios\", \"Nuñez\", \"Mónica\", \"Personal de limpieza\", 4, 800)\n",
    "monicac.presentar()\n",
    "\n",
    "roger = Empleado(78455613, \"Mendoza\", \"Aguayo\", \"Roger\", \"portero\", 6, 800)\n",
    "roger.presentar()\n",
    "\n",
    "print(f\"Total de empleados: {Empleado.total_de_empleados}\")"
   ]
  }
 ],
 "metadata": {
  "kernelspec": {
   "display_name": "Python 3",
   "language": "python",
   "name": "python3"
  },
  "language_info": {
   "name": "python",
   "version": "3.12.6"
  }
 },
 "nbformat": 4,
 "nbformat_minor": 2
}
